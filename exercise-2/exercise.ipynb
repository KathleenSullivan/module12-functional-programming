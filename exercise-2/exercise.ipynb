{
 "cells": [
  {
   "cell_type": "markdown",
   "metadata": {},
   "source": [
    "# Exercise-2\n",
    "Add the specified code for each code cell, running the cells _in order_."
   ]
  },
  {
   "cell_type": "markdown",
   "metadata": {},
   "source": [
    "Define a list **`names`** that includes your name and the names of at least 2 people close to you."
   ]
  },
  {
   "cell_type": "code",
   "execution_count": 10,
   "metadata": {
    "collapsed": true
   },
   "outputs": [],
   "source": [
    "names = [\"Kath\",\"Dan\",\"Megan\"]"
   ]
  },
  {
   "cell_type": "markdown",
   "metadata": {},
   "source": [
    "Use a **list comprehension** to _map_ the `names` list to a `shouted` list that includes all the names, but in upper case. Print out the `shouted` list."
   ]
  },
  {
   "cell_type": "code",
   "execution_count": 12,
   "metadata": {
    "collapsed": false
   },
   "outputs": [
    {
     "name": "stdout",
     "output_type": "stream",
     "text": [
      "['KATH', 'DAN', 'MEGAN']\n"
     ]
    }
   ],
   "source": [
    "shouted = [name.upper() for name in names]\n",
    "print(shouted)"
   ]
  },
  {
   "cell_type": "markdown",
   "metadata": {},
   "source": [
    "Define a new list **`words`** that contains each of the words to the following [song lyric](https://www.youtube.com/watch?v=StTqXEQ2l-Y) (don't include the notes):\n",
    "```\n",
    "♫ everything is awesome everything is cool when you are part of a TEEEEAM ♫\n",
    "```\n",
    "\n",
    "_Hint:_ use the `split()` string method."
   ]
  },
  {
   "cell_type": "code",
   "execution_count": 13,
   "metadata": {
    "collapsed": false
   },
   "outputs": [
    {
     "name": "stdout",
     "output_type": "stream",
     "text": [
      "['everything', 'is', 'awesome', 'everything', 'is', 'cool', 'when', 'you', 'are', 'part', 'of', 'a', 'TEEEEAM']\n"
     ]
    }
   ],
   "source": [
    "lyric = \"everything is awesome everything is cool when you are part of a TEEEEAM\"\n",
    "words = lyric.split()\n",
    "#print(words)"
   ]
  },
  {
   "cell_type": "markdown",
   "metadata": {},
   "source": [
    "Use a **list comprehension** to filter the list of words to only include words that have (strictly) more than 4 letters."
   ]
  },
  {
   "cell_type": "code",
   "execution_count": 15,
   "metadata": {
    "collapsed": false
   },
   "outputs": [
    {
     "name": "stdout",
     "output_type": "stream",
     "text": [
      "['everything', 'awesome', 'everything', 'TEEEEAM']\n"
     ]
    }
   ],
   "source": [
    "long_words = [word for word in words if len(word)>4]\n",
    "print(long_words)"
   ]
  },
  {
   "cell_type": "markdown",
   "metadata": {},
   "source": [
    "Use a **list comprehension** to create a list of initials for each word in the lyric that is _not_ 3 letters or shorter."
   ]
  },
  {
   "cell_type": "code",
   "execution_count": 25,
   "metadata": {
    "collapsed": false
   },
   "outputs": [
    {
     "name": "stdout",
     "output_type": "stream",
     "text": [
      "['E', 'A', 'E', 'C', 'W', 'P', 'T']\n"
     ]
    }
   ],
   "source": [
    "abbreviated_long_words = [word.upper()[0] for word in words if len(word) > 3]\n",
    "print(abbreviated_long_words)\n"
   ]
  },
  {
   "cell_type": "markdown",
   "metadata": {},
   "source": [
    "Use a **list comprehension** (with nested `for` clauses) to produce a list of _tuples_ representing the different combinations of numbers found on two rolled six-sided dice:\n",
    "```\n",
    "[(1,1), (1,2), (1,3), ...]\n",
    "```\n",
    "Note that there should be 36 different combinations!"
   ]
  },
  {
   "cell_type": "code",
   "execution_count": 33,
   "metadata": {
    "collapsed": false
   },
   "outputs": [
    {
     "name": "stdout",
     "output_type": "stream",
     "text": [
      "[(1, 1), (1, 2), (1, 3), (1, 4), (1, 5), (1, 6), (2, 1), (2, 2), (2, 3), (2, 4), (2, 5), (2, 6), (3, 1), (3, 2), (3, 3), (3, 4), (3, 5), (3, 6), (4, 1), (4, 2), (4, 3), (4, 4), (4, 5), (4, 6), (5, 1), (5, 2), (5, 3), (5, 4), (5, 5), (5, 6), (6, 1), (6, 2), (6, 3), (6, 4), (6, 5), (6, 6)]\n"
     ]
    }
   ],
   "source": [
    "dice_combos = [(i,j) for i in range(1,7) for j in range(1,7)]\n",
    "print(dice_combos)"
   ]
  },
  {
   "cell_type": "markdown",
   "metadata": {},
   "source": [
    "Use a **list comprehension** to produce a list of tuples representing the rolls on two dice that sum up to 7 OR 11."
   ]
  },
  {
   "cell_type": "code",
   "execution_count": 34,
   "metadata": {
    "collapsed": false
   },
   "outputs": [
    {
     "name": "stdout",
     "output_type": "stream",
     "text": [
      "[(1, 6), (2, 5), (3, 4), (4, 3), (5, 2), (5, 6), (6, 1), (6, 5)]\n"
     ]
    }
   ],
   "source": [
    "dice_combos = [(i,j) for i in range(1,7) for j in range(1,7) if i+j == 7 or i+j==11]\n",
    "print(dice_combos)"
   ]
  },
  {
   "cell_type": "code",
   "execution_count": null,
   "metadata": {
    "collapsed": true
   },
   "outputs": [],
   "source": []
  }
 ],
 "metadata": {
  "kernelspec": {
   "display_name": "Python 3",
   "language": "python",
   "name": "python3"
  },
  "language_info": {
   "codemirror_mode": {
    "name": "ipython",
    "version": 3
   },
   "file_extension": ".py",
   "mimetype": "text/x-python",
   "name": "python",
   "nbconvert_exporter": "python",
   "pygments_lexer": "ipython3",
   "version": "3.6.0"
  },
  "toc": {
   "colors": {
    "hover_highlight": "#DAA520",
    "running_highlight": "#FF0000",
    "selected_highlight": "#FFD700"
   },
   "moveMenuLeft": true,
   "nav_menu": {
    "height": "30px",
    "width": "252px"
   },
   "navigate_menu": true,
   "number_sections": true,
   "sideBar": true,
   "threshold": 4,
   "toc_cell": false,
   "toc_section_display": "block",
   "toc_window_display": false,
   "widenNotebook": false
  }
 },
 "nbformat": 4,
 "nbformat_minor": 2
}
